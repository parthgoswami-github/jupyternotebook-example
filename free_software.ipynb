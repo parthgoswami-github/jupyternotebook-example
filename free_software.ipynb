{
 "cells": [
  {
   "cell_type": "markdown",
   "id": "496bad4f",
   "metadata": {},
   "source": [
    "# What is free software?\n",
    "\n",
    "- Means that the users have the freedom to run, copy, distribute, study, change and improve the software.\n",
    "- “Free software” is a matter of liberty, not price\n",
    "\n",
    " **“free” as in “free speech,” not as in “free beer.”**\n",
    " \n"
   ]
  },
  {
   "cell_type": "markdown",
   "id": "33553150",
   "metadata": {},
   "source": [
    "# Four Essential Freedoms\n",
    "\n",
    "A program is free software if the program's users have the four essential\n",
    "freedoms\n",
    "\n",
    "\n",
    "0. The freedom to run the program as you wish, for any purpose (freedom 0).\n",
    "1. The freedom to study how the program works, and change it so it does your computing as you wish (freedom 1). Access to the source code is a precondition for this.\n",
    "2. The freedom to redistribute copies so you can help others (freedom 2).\n",
    "3. The freedom to distribute copies of your modified versions to others (freedom 3). By doing this you can give the whole community a chance to benefit from your changes. Access to the source code is a precondition for this.\n"
   ]
  },
  {
   "cell_type": "markdown",
   "id": "1cc43c65",
   "metadata": {},
   "source": [
    "# What is closed source software\n",
    "\n",
    "Free software exists as a counterpart to proprietary or \"closed source\" software.\n",
    "\n",
    "Closed source software is highly guarded. Only the owners of the source code have the legal right to access that code. Closed source code cannot be legally altered or copied, and the user pays only to use the software as it is intended—they cannot modify it for new uses nor share it with their communities.\n"
   ]
  }
 ],
 "metadata": {
  "kernelspec": {
   "display_name": "Python 3 (ipykernel)",
   "language": "python",
   "name": "python3"
  },
  "language_info": {
   "codemirror_mode": {
    "name": "ipython",
    "version": 3
   },
   "file_extension": ".py",
   "mimetype": "text/x-python",
   "name": "python",
   "nbconvert_exporter": "python",
   "pygments_lexer": "ipython3",
   "version": "3.8.9"
  }
 },
 "nbformat": 4,
 "nbformat_minor": 5
}
