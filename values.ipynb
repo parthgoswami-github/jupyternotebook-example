{
 "cells": [
  {
   "cell_type": "markdown",
   "id": "c98b3279",
   "metadata": {},
   "source": [
    "# Values of open source\n",
    "\n",
    "\n",
    "## Peer review\n",
    "**Peer review:** Because the source code is freely accessible and the open source community is very active, open source code is actively checked and improved upon by peer programmers. Think of it as living code, rather than code that is closed and becomes stagnant.\n",
    "\n",
    "## Transparency\n",
    "**Transparency:** Need to know exactly what kinds of data are moving where, or what kinds of changes have happened in the code? Open source allows you to check and track that for yourself, without having to rely on vendor promises.\n",
    "\n",
    "## Reliability\n",
    "**Reliability:** Proprietary code relies on the single author or company controlling that code to keep it updated, patched, and working. Open source code outlives its original authors because it is constantly updated through active open source communities. Open standards and peer review ensure that open source code is tested appropriately and often.\n",
    "\n",
    "## Flexibility: \n",
    "**Flexibility:** Because of its emphasis on modification, you can use open source code to address problems that are unique to your business or community. You aren’t locked in to using the code in any one specific way, and you can rely on community help and peer review when you implement new solutions.\n",
    "\n",
    "\n",
    "## Lower cost\n",
    "**Lower cost:** With open source the code itself is free—what you pay for when you use a company like Red Hat is support, security hardening, and help managing interoperability.\n",
    "\n",
    "## No vendor lock-in\n",
    "**No vendor lock-in:** Freedom for the user means that you can take your open source code anywhere, and use it for anything, at anytime.\n",
    "\n",
    "\n",
    "## Open collaboration: \n",
    "**Open collaboration:** The existence of active open source communities means that you can find help, resources, and perspectives that reach beyond one interest group or one company.\n"
   ]
  }
 ],
 "metadata": {
  "kernelspec": {
   "display_name": "Python 3 (ipykernel)",
   "language": "python",
   "name": "python3"
  },
  "language_info": {
   "codemirror_mode": {
    "name": "ipython",
    "version": 3
   },
   "file_extension": ".py",
   "mimetype": "text/x-python",
   "name": "python",
   "nbconvert_exporter": "python",
   "pygments_lexer": "ipython3",
   "version": "3.8.9"
  }
 },
 "nbformat": 4,
 "nbformat_minor": 5
}
