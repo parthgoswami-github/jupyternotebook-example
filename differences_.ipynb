{
 "cells": [
  {
   "cell_type": "markdown",
   "id": "0d8055f4",
   "metadata": {},
   "source": [
    "# Difference between free, closed and open source softwares \n",
    "\n",
    "\n",
    "### What is free software?\n",
    "\n",
    "“Free software” means software that respects users' freedom and community. Roughly, it means that the users have the freedom to run, copy, distribute, study, change and improve the software. Thus, “free software” is a matter of liberty, not price. To understand the concept, you should think of “free” as in “free speech,” not as in “free beer.” We sometimes call it “libre software,” borrowing the French or Spanish word for “free” as in freedom.\n",
    "When users don't control the program, we call it a “nonfree” or “proprietary” program.\n",
    "\n",
    "\n",
    "### The four essential freedoms\n",
    "\n",
    "A program is free software if the program's users have the four essential freedoms: \n",
    "- The freedom to run the program as you wish, for any purpose (freedom 0).\n",
    "- The freedom to study how the program works, and change it so it does your computing as you wish (freedom 1). Access to the source code is a precondition for this.\n",
    "- The freedom to redistribute copies so you can help others (freedom 2).\n",
    "- The freedom to distribute copies of your modified versions to others (freedom 3). By doing this you can give the whole community a chance to benefit from your changes. Access to the source code is a precondition for this.\n",
    "\n",
    "The reason they are numbered 0, 1, 2 and 3 is historical. Around 1990 there were three freedoms, numbered 1, 2 and 3. It was then realized that the freedom to run the program needed to be mentioned explicitly. It was clearly more basic than the other three, so it properly should precede them. Rather than renumber the others, it was made freedom 0.\n",
    "\n",
    "\n",
    "### What is closed source software? \n",
    "\n",
    "Free software exists as a counterpart to proprietary or \"closed source\" software. Closed source software is highly guarded. Only the owners of the source code have the legal right to access that code. Closed source code cannot be legally altered or copied, and the user pays only to use the software as it is intended—they cannot modify it for new uses nor share it with their communities.\n",
    "\n",
    "\n",
    "### What is open source software?\n",
    "\n",
    "Open source software is released through a specific kind of license that makes its source code legally available to end-users. There are many such licenses, but typically software is considered open source if:\n",
    "It is available in source code form without additional cost, meaning users can view the code that comprises the software and make any kind of changes to it they want.\n",
    "The source code can be repurposed into other new software, meaning anyone can take the source code and distribute their own program from it."
   ]
  }
 ],
 "metadata": {
  "kernelspec": {
   "display_name": "Python 3 (ipykernel)",
   "language": "python",
   "name": "python3"
  },
  "language_info": {
   "codemirror_mode": {
    "name": "ipython",
    "version": 3
   },
   "file_extension": ".py",
   "mimetype": "text/x-python",
   "name": "python",
   "nbconvert_exporter": "python",
   "pygments_lexer": "ipython3",
   "version": "3.8.9"
  }
 },
 "nbformat": 4,
 "nbformat_minor": 5
}
