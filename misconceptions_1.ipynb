{
 "cells": [
  {
   "cell_type": "markdown",
   "id": "c2a1ac52",
   "metadata": {},
   "source": [
    "# Misconceptions/incorrect assumptions about open source\n",
    "\n",
    "## Working for open-source is like giving away your time for free\n",
    "\n",
    "While it might be true that you’re not getting paid money for the time you put into an open-source project, another very true fact, is that you do get some benefits from the activity. Those benefits can take different forms like:\n",
    "- Networking\n",
    "- Improving your skills\n",
    "- It can be a source of income for you.\n",
    "\n",
    "## Open source project owners only merge code\n",
    "\n",
    "Merging code is part of the work, yes, but you can’t just merge any type of code. Most of the owner’s time is spent:\n",
    "- Reviewing pull requests\n",
    "- Answering issues\n",
    "- Writing feature proposals\n",
    "- Review issues and tag/retag them\n",
    "- Coding\n",
    "\n",
    "## Real companies don’t care for open-source\n",
    "Many companies are built around open-source,  many others rely on services and related products around their open-source projects. And for all of them, a version of their product is free for everyone to use, and not only that, but their code is freely accessible (thus being open-source), however, they’re not losing business or any money because of that. Being open provides a sense of transparency that helps users and customers trust more in those products\n",
    "\n",
    "## It’s open-source, so I can do whatever I want with it\n",
    "\n",
    "Yes the code is accessible, and yes, you can download it and review it. But no, you can’t do whatever you want with it, open-source doesn’t mean it’s “**free**”. It means you’re able to read the code and that you may use the product, but you have to *pay attention to the license associated with each project* before you make use of the code.\n",
    "Keep that in mind, open-source is not the same as “free for all”, make sure you look for the `LICENSE.TXT` file inside the repo which is where the information about the license usually is, or carefully read the `README.MD` file, which could also contain that information."
   ]
  }
 ],
 "metadata": {
  "kernelspec": {
   "display_name": "Python 3 (ipykernel)",
   "language": "python",
   "name": "python3"
  },
  "language_info": {
   "codemirror_mode": {
    "name": "ipython",
    "version": 3
   },
   "file_extension": ".py",
   "mimetype": "text/x-python",
   "name": "python",
   "nbconvert_exporter": "python",
   "pygments_lexer": "ipython3",
   "version": "3.8.9"
  }
 },
 "nbformat": 4,
 "nbformat_minor": 5
}
