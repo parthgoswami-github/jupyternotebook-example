{
 "cells": [
  {
   "cell_type": "markdown",
   "id": "f7a0c249",
   "metadata": {},
   "source": [
    "# Misconceptions about open source\n",
    "\n",
    "\n",
    "1.    Working for open-source is like giving away your time for free\n",
    "2.    Open source project owners only merge code\n",
    "3.    Real companies don’t care for open-source\n",
    "4.    It’s open-source, so I can do whatever I want with it"
   ]
  }
 ],
 "metadata": {
  "kernelspec": {
   "display_name": "Python 3 (ipykernel)",
   "language": "python",
   "name": "python3"
  },
  "language_info": {
   "codemirror_mode": {
    "name": "ipython",
    "version": 3
   },
   "file_extension": ".py",
   "mimetype": "text/x-python",
   "name": "python",
   "nbconvert_exporter": "python",
   "pygments_lexer": "ipython3",
   "version": "3.8.9"
  }
 },
 "nbformat": 4,
 "nbformat_minor": 5
}
